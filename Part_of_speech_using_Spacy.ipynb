{
  "nbformat": 4,
  "nbformat_minor": 0,
  "metadata": {
    "colab": {
      "name": "NER.ipynb",
      "provenance": [],
      "collapsed_sections": [],
      "mount_file_id": "1pKtrHiGNup_iWQKxr6Lte9hpTmRow3N8",
      "authorship_tag": "ABX9TyNw/36ngcmxzn0MyM03FWZO",
      "include_colab_link": true
    },
    "kernelspec": {
      "name": "python3",
      "display_name": "Python 3"
    },
    "language_info": {
      "name": "python"
    },
    "gpuClass": "standard"
  },
  "cells": [
    {
      "cell_type": "markdown",
      "metadata": {
        "id": "view-in-github",
        "colab_type": "text"
      },
      "source": [
        "<a href=\"https://colab.research.google.com/github/sree2290/Part_of_speech_identifier_App/blob/main/Part_of_speech_using_Spacy.ipynb\" target=\"_parent\"><img src=\"https://colab.research.google.com/assets/colab-badge.svg\" alt=\"Open In Colab\"/></a>"
      ]
    },
    {
      "cell_type": "markdown",
      "source": [
        "# Part of speech prediction file"
      ],
      "metadata": {
        "id": "1hetNQySBN2j"
      }
    },
    {
      "cell_type": "markdown",
      "source": [
        "Importing required libraries"
      ],
      "metadata": {
        "id": "zZOUpc-kOonX"
      }
    },
    {
      "cell_type": "code",
      "source": [
        "import spacy"
      ],
      "metadata": {
        "id": "qUhr5Q-743T0"
      },
      "execution_count": 1,
      "outputs": []
    },
    {
      "cell_type": "code",
      "source": [
        "nlp = spacy.load(\"en_core_web_sm\")"
      ],
      "metadata": {
        "id": "bd4RJSx37Zjy"
      },
      "execution_count": 36,
      "outputs": []
    },
    {
      "cell_type": "markdown",
      "source": [
        "checking for NER(named entity recognization)"
      ],
      "metadata": {
        "id": "VU6dQnlaOsDM"
      }
    },
    {
      "cell_type": "code",
      "source": [
        "word = nlp(\"Google inc  , Tesla inc, Twitter is a fast growing company with 500 million dollers\")\n",
        "for i in word.ents:\n",
        "  print(i.text, \" | \", i.label_, \" | \", spacy.explain(i.label_))"
      ],
      "metadata": {
        "colab": {
          "base_uri": "https://localhost:8080/"
        },
        "id": "7L6C2FiT70DG",
        "outputId": "165e6934-81b3-4c05-90d6-df148cbc448b"
      },
      "execution_count": 14,
      "outputs": [
        {
          "output_type": "stream",
          "name": "stdout",
          "text": [
            "Google inc    |  ORG  |  Companies, agencies, institutions, etc.\n",
            "Tesla inc  |  ORG  |  Companies, agencies, institutions, etc.\n",
            "Twitter  |  PERSON  |  People, including fictional\n",
            "500 million  |  CARDINAL  |  Numerals that do not fall under another type\n"
          ]
        }
      ]
    },
    {
      "cell_type": "markdown",
      "source": [
        "Checking part of speech "
      ],
      "metadata": {
        "id": "vS-HtJsfOwzF"
      }
    },
    {
      "cell_type": "code",
      "source": [
        "name = []\n",
        "pos = []\n",
        "\n",
        "text = nlp(\"Soundarya is a good girl she placed in google\")\n",
        "for i in text:\n",
        "  name.append(str(i))\n",
        "  pos.append(i.pos_)\n",
        "  print(i, i.pos_,\"------\", spacy.explain(i.pos_))"
      ],
      "metadata": {
        "colab": {
          "base_uri": "https://localhost:8080/"
        },
        "id": "6TV7Fzz-JU9n",
        "outputId": "5422c7bd-166d-40b0-d13e-b0169cec8148"
      },
      "execution_count": 34,
      "outputs": [
        {
          "output_type": "stream",
          "name": "stdout",
          "text": [
            "Soundarya NOUN ------ noun\n",
            "is AUX ------ auxiliary\n",
            "a DET ------ determiner\n",
            "good ADJ ------ adjective\n",
            "girl NOUN ------ noun\n",
            "she PRON ------ pronoun\n",
            "placed VERB ------ verb\n",
            "in ADP ------ adposition\n",
            "google PROPN ------ proper noun\n"
          ]
        }
      ]
    },
    {
      "cell_type": "code",
      "source": [
        ""
      ],
      "metadata": {
        "id": "x8-wJSv8L17i"
      },
      "execution_count": null,
      "outputs": []
    }
  ]
}